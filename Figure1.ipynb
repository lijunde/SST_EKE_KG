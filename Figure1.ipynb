{
 "cells": [
  {
   "cell_type": "markdown",
   "metadata": {},
   "source": [
    "# Import packages"
   ]
  },
  {
   "cell_type": "code",
   "execution_count": 1,
   "metadata": {},
   "outputs": [],
   "source": [
    "import os\n",
    "import cmaps\n",
    "import cmocean\n",
    "import numpy as np\n",
    "import xarray as xr\n",
    "import scipy.io as sio\n",
    "import matplotlib.pyplot as plt\n",
    "import matplotlib as mpl\n",
    "import matplotlib.gridspec as gridspec\n",
    "from netCDF4 import Dataset\n",
    "from datetime import date\n",
    "from mpl_toolkits.basemap import Basemap\n",
    "from matplotlib.pyplot import Polygon\n",
    "from matplotlib import rcParams\n",
    "from matplotlib.backends.backend_pdf import PdfPages\n",
    "version = mpl.__version__\n",
    "rcParams['font.family'] = 'sans-serif'\n",
    "directory   = '/g/data/fu5/eac/20year_run_Junde/jl4424'"
   ]
  },
  {
   "cell_type": "markdown",
   "metadata": {},
   "source": [
    "# Read SST, SSH and EKE trends"
   ]
  },
  {
   "cell_type": "code",
   "execution_count": 2,
   "metadata": {},
   "outputs": [],
   "source": [
    "dataset   = sio.loadmat(directory+'/KC_GS/Figures/Figure1_trend.mat')\n",
    "oisst_lon = dataset['oisst_lon'][:,:]\n",
    "oisst_lat = dataset['oisst_lat'][:,:]\n",
    "aviso_lon = dataset['aviso_lon'][:,:]\n",
    "aviso_lat = dataset['aviso_lat'][:,:]\n",
    "sst_trend = dataset['sst_trend'][:,:]*3650\n",
    "ssh_trend = dataset['ssh_trend'][:,:]*3650\n",
    "eke_trend = dataset['eke_trend'][:,:]*3650*100\n",
    "sst_p     = dataset['sst_p'][:,:]\n",
    "eke_p     = dataset['eke_p'][:,:]\n",
    "ssh_p     = dataset['ssh_p'][:,:]\n",
    "sst_p[np.where(sst_p > 0.05)]       = np.nan\n",
    "sst_trend[np.where(eke_trend == 0)] = np.nan\n",
    "eke_p[np.where(eke_p > 0.05)]       = np.nan\n",
    "ssh_p[np.where(ssh_p > 0.05)]       = np.nan\n",
    "var_trend = np.array([sst_trend,ssh_trend,eke_trend])\n",
    "var_p     = np.array([sst_p,ssh_p,eke_p])"
   ]
  },
  {
   "cell_type": "markdown",
   "metadata": {
    "tags": []
   },
   "source": [
    "# Plot the spatial distribution of SST, SSH and EKE trends"
   ]
  },
  {
   "cell_type": "code",
   "execution_count": null,
   "metadata": {},
   "outputs": [],
   "source": [
    "m             = Basemap(projection='merc',suppress_ticks=True,llcrnrlat=np.nanmin(oisst_lat),urcrnrlat= np.nanmax(oisst_lat),\n",
    "              llcrnrlon=np.nanmin(oisst_lon),urcrnrlon=np.nanmax(oisst_lon),resolution='l')\n",
    "x, y          = m(oisst_lon, oisst_lat)\n",
    "yy            = np.arange(1, y.shape[0], 8)\n",
    "xx            = np.arange(1, x.shape[1], 8)\n",
    "cx,cy         = m(105, 52)\n",
    "points        = np.meshgrid(yy, xx)\n",
    "point_index   = tuple(points)\n",
    "labels        = ['a','b','c']\n",
    "levels1       = np.linspace(-1,1,50)\n",
    "levels2       = np.linspace(-0.1,0.1,50)\n",
    "levels3       = np.linspace(-3,3,50)\n",
    "tick_marks1   = np.linspace(-1,1,11)\n",
    "tick_marks2   = np.linspace(-0.1,0.1,11)\n",
    "tick_marks3   = np.linspace(-3,3,13)\n",
    "cmaps1        = cmaps.cmocean_balance\n",
    "fig_ratio     = 0.9\n",
    "fig           = plt.figure(figsize=(24, 30))\n",
    "gs            = gridspec.GridSpec(4,1)\n",
    "labelfont     = 22\n",
    "padspacescale = 20\n",
    "labelpadscale = 4\n",
    "linefont      = 1.2\n",
    "scale         = 1.0\n",
    "m_scale       = 10\n",
    "#%%%%%%%%%%%%%%%%%%%%%%%%%%%%%%%%%%%%%%%%%%%%%%%%%%%%%%%%%%%%%%%%%%%%%%\n",
    "for i in range(3):\n",
    "    stipple_p=var_p[i]\n",
    "    point_x=x[point_index]\n",
    "    point_y=y[point_index]\n",
    "    point_z=stipple_p[point_index]\n",
    "    point_x=np.ravel(point_x)\n",
    "    point_y=np.ravel(point_y)\n",
    "    point_z=np.ravel(point_z)\n",
    "    point_x=point_x[~np.isnan(point_z)]\n",
    "    point_y=point_y[~np.isnan(point_z)]\n",
    "    ax = fig.add_subplot(gs[i])\n",
    "    l, b, w, h = ax.get_position().bounds\n",
    "    m   = Basemap(projection='merc',lat_ts=1,llcrnrlat=np.nanmin(oisst_lat),urcrnrlat= np.nanmax(oisst_lat),llcrnrlon=np.nanmin(oisst_lon),urcrnrlon=np.nanmax(oisst_lon),resolution='l')    \n",
    "    m.drawmeridians(np.arange(0,360, 20),labels=[0,0,0,1],linewidth=linefont,dashes=[2,2],color='.5',fontsize=labelfont,family='sans-serif')\n",
    "    m.drawparallels(np.arange(0,55, 10),labels=[1,0,0,0],linewidth=linefont,dashes=[2,2],color='.5',fontsize=labelfont,family='sans-serif')   \n",
    "    m.drawcoastlines(color='0.1',  linewidth=0.6*linefont)\n",
    "    if i==0:\n",
    "        CB1=m.contourf(x, y, var_trend[i],cmap=cmaps1,levels=levels1,origin='lower',extend='both')     \n",
    "    elif i==1:\n",
    "        b=b-0.023\n",
    "        CB2=m.contourf(x, y, var_trend[i],cmap=cmaps1,levels=levels2,origin='lower',extend='both')\n",
    "    elif i==2:\n",
    "        b=b-0.046\n",
    "        CB3=m.contourf(x, y, var_trend[i],cmap=cmaps1,levels=levels3,origin='lower',extend='both')\n",
    "        plt.xlabel('Longitude',fontsize=labelfont,labelpad=2.0*padspacescale,family='sans-serif')\n",
    "    CS1=m.scatter(point_x,point_y,s=m_scale,c='dimgray',marker='.') \n",
    "    plt.ylabel('Latitude',fontsize=labelfont,labelpad=3.5*padspacescale,family='sans-serif')\n",
    "    ax.axes.xaxis.set_tick_params(pad=0)\n",
    "    ax.axes.yaxis.set_tick_params(pad=0)\n",
    "    ax.set_position([l, b, scale*w, scale*h])   \n",
    "    ax.spines['left'].set_linewidth(labelpadscale)\n",
    "    ax.spines['top'].set_linewidth(labelpadscale)\n",
    "    ax.spines['right'].set_linewidth(labelpadscale)\n",
    "    ax.spines['bottom'].set_linewidth(labelpadscale)\n",
    "    plt.text(cx, cy,labels[i],color='xkcd:black', fontsize=1.2*labelfont, weight='bold',family='sans-serif')\n",
    "    m.fillcontinents(color='0.9', lake_color='white')\n",
    "cbaxes1     = fig.add_axes([0.14, 0.69, 0.75, 0.01])\n",
    "cb1 = plt.colorbar(CB1,orientation='horizontal',cax = cbaxes1)\n",
    "cb1.set_ticks(tick_marks1)\n",
    "cb1.ax.tick_params(labelsize=1.2*labelfont)\n",
    "cb1.set_label(r'SST trend ($^\\circ$C per decade)', fontsize=1.2*labelfont,labelpad=0,family='sans-serif')\n",
    "cbaxes2     = fig.add_axes([0.14, 0.465, 0.75, 0.01])\n",
    "cb2 = plt.colorbar(CB2,orientation='horizontal',cax = cbaxes2)\n",
    "cb2.set_ticks(tick_marks2)\n",
    "cb2.ax.tick_params(labelsize=1.2*labelfont)\n",
    "cb2.set_label(r'SSH trend (m per decade)', fontsize=1.2*labelfont,labelpad=0,family='sans-serif')\n",
    "cbaxes3     = fig.add_axes([0.14, 0.23, 0.75, 0.01])\n",
    "cb3 = plt.colorbar(CB3,orientation='horizontal',cax = cbaxes3)\n",
    "cb3.set_ticks(tick_marks3)\n",
    "cb3.ax.tick_params(labelsize=1.2*labelfont) \n",
    "cb3.set_label(r'EKE trend (10$^{-2}$ m$^{2}$ s$^{-2}$ per decade)', fontsize=1.2*labelfont,labelpad=0,family='sans-serif')\n",
    "fig.savefig(directory+'/KC_GS/Figures/Figure1_sst_ssh_eke_trends.png',dpi=300,bbox_inches = 'tight')"
   ]
  }
 ],
 "metadata": {
  "kernelspec": {
   "display_name": "Python 3 (ipykernel)",
   "language": "python",
   "name": "python3"
  },
  "language_info": {
   "codemirror_mode": {
    "name": "ipython",
    "version": 3
   },
   "file_extension": ".py",
   "mimetype": "text/x-python",
   "name": "python",
   "nbconvert_exporter": "python",
   "pygments_lexer": "ipython3",
   "version": "3.10.14"
  }
 },
 "nbformat": 4,
 "nbformat_minor": 4
}
