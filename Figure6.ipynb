{
 "cells": [
  {
   "cell_type": "markdown",
   "metadata": {},
   "source": [
    "# Import packages"
   ]
  },
  {
   "cell_type": "code",
   "execution_count": 1,
   "metadata": {},
   "outputs": [],
   "source": [
    "import os\n",
    "import cmaps\n",
    "import cmaps as cm\n",
    "import cmocean\n",
    "import numpy as np\n",
    "import xarray as xr\n",
    "import scipy.io as sio\n",
    "import matplotlib.pyplot as plt\n",
    "import matplotlib as mpl\n",
    "import matplotlib.gridspec as gridspec\n",
    "from netCDF4 import Dataset\n",
    "from datetime import date\n",
    "from mpl_toolkits.basemap import Basemap\n",
    "from matplotlib.pyplot import Polygon\n",
    "from matplotlib import rcParams\n",
    "from xarrayMannKendall import Mann_Kendall_test\n",
    "from dask.distributed import Client\n",
    "from astropy import convolution\n",
    "rcParams['font.family'] = 'sans-serif'\n",
    "directory   = '/g/data/fu5/eac/20year_run_Junde/jl4424/KC_GS'"
   ]
  },
  {
   "cell_type": "code",
   "execution_count": null,
   "metadata": {},
   "outputs": [],
   "source": [
    "dataset0  = sio.loadmat(directory+'/Figures/Figure1_trend.mat')\n",
    "dataset1  = sio.loadmat(directory+'/Figures/Figure2_mean.mat')\n",
    "dataset2  = xr.open_dataset(directory+'/ERA5/ERA5_monthly_Tx_LS.nc')\n",
    "dataset3  = xr.open_dataset(directory+'/ERA5/ERA5_monthly_u10_LS.nc')\n",
    "dataset4  = xr.open_dataset(directory+'/AVISO/AVISO_monthly_SSH_LS_detrend.nc')\n",
    "sst_trend = dataset0['sst_trend'][:,:-1]*3650\n",
    "sst_mean  = dataset1['oisst_mean'][:,:-1]\n",
    "lon       = np.tile(dataset2.lon, (len(dataset2.lat),1)).transpose()\n",
    "lat       = np.tile(dataset2.lat, (len(dataset2.lon),1))\n",
    "u10       = np.nanmean(dataset3.u10.values,axis=0).transpose()\n",
    "u10_mean  = np.fliplr(np.concatenate((u10[1199:,160:361],u10[:681,160:361]),axis=0))\n",
    "u10_mean[np.where(np.isnan(sst_mean))]=np.nan\n",
    "u10_mean[np.where((lon>330) & (lat<=30))]=np.nan\n",
    "u10_mean[np.where(lat<10)]=np.nan\n",
    "large_scale_ssh1 = dataset4.adt.transpose().values\n",
    "large_scale_ssh2 = large_scale_ssh1.copy()\n",
    "large_scale_ssh1[:,:30,:]=np.nan;\n",
    "large_scale_ssh1[:,182:,:]=np.nan;\n",
    "# large_scale_ssh1[:5,:,:]=np.nan;\n",
    "large_scale_ssh2[:,:30,:]=np.nan;\n",
    "large_scale_ssh2[:636,:,:]=np.nan;\n",
    "large_scale_ssh2[905:,:,:]=np.nan;\n",
    "KC_SSH = np.nanmean(large_scale_ssh1[:,1:,:],axis=2)\n",
    "GS_SSH = np.nanmean(large_scale_ssh2[:,1:,:],axis=2)\n",
    "KC_SSH_SG = KC_SSH.copy()\n",
    "GS_SSH_SG = GS_SSH.copy()\n",
    "KC_SSH[np.where((lon>173) | (lat<=21))]=np.nan\n",
    "GS_SSH[np.where(lon>313)]=np.nan"
   ]
  },
  {
   "cell_type": "markdown",
   "metadata": {},
   "source": [
    "# Plot the Northern Hemisphere"
   ]
  },
  {
   "cell_type": "code",
   "execution_count": null,
   "metadata": {},
   "outputs": [],
   "source": [
    "fig_ratio=0.9\n",
    "fig = plt.figure(figsize=(30, 20))\n",
    "gs=gridspec.GridSpec(3,3)\n",
    "labelfont=18\n",
    "padspacescale=10\n",
    "labelpadscale=2\n",
    "linefont = 6\n",
    "scale    = 1.0\n",
    "levels1  = np.linspace(-1,1,100)\n",
    "tick_marks1 = np.array([-1.0,-0.5,0,0.5,1.0])\n",
    "# cmaps1  = cmaps.cmocean_balance\n",
    "cmaps1  = cm.BlueWhiteOrangeRed\n",
    "##################################################################################\n",
    "ax = fig.add_subplot(gs[0:2])\n",
    "l, b, w, h = ax.get_position().bounds\n",
    "m   = Basemap(projection='merc',llcrnrlat=np.nanmin(lat),urcrnrlat= np.nanmax(lat),llcrnrlon=np.nanmin(lon),urcrnrlon=np.nanmax(lon),resolution='l')    \n",
    "m.drawmeridians(np.arange(0,360, 20),labels=[0,0,0,1],linewidth=0.3*linefont,dashes=[2,2],color='.5',fontsize=1.2*labelfont,family='sans-serif')\n",
    "m.drawparallels(np.arange(0,55, 10),labels=[1,0,0,0],linewidth=0.3*linefont,dashes=[2,2],color='.5',fontsize=1.2*labelfont,family='sans-serif')  \n",
    "x, y = m(lon, lat)\n",
    "CB=m.contourf(x, y, sst_trend,cmap=cmaps1,levels=levels1,origin='lower',extend='both')     \n",
    "CS=m.contour(x, y, u10_mean,levels=[0.0],   linewidths=0.8*linefont,linestyles='solid', colors='xkcd:cherry red')\n",
    "CS=m.contour(x, y, KC_SSH_SG, levels=[1.1], linewidths=0.5*linefont,linestyles='solid',colors='tab:gray')\n",
    "CS=m.contour(x, y, GS_SSH_SG, levels=[0.25],linewidths=0.5*linefont,linestyles='solid',colors='tab:blue') \n",
    "CS=m.contour(x, y, KC_SSH,    levels=[1.1], linewidths=1.0*linefont,linestyles='solid',colors='tab:gray')\n",
    "CS=m.contour(x, y, GS_SSH,    levels=[0.25],linewidths=1.0*linefont,linestyles='solid',colors='tab:blue')    \n",
    "ax.set_position([l, b, scale*w, scale*h])\n",
    "ax.spines['left'].set_linewidth(linefont)\n",
    "ax.spines['top'].set_linewidth(linefont)\n",
    "ax.spines['right'].set_linewidth(linefont)\n",
    "ax.spines['bottom'].set_linewidth(linefont)\n",
    "plt.xlabel('Longitude',fontsize=1.2*labelfont,labelpad=4*padspacescale,family='sans-serif')\n",
    "plt.ylabel('Latitude',fontsize=1.2*labelfont,labelpad=7*padspacescale,family='sans-serif')\n",
    "ax.axes.xaxis.set_tick_params(pad=0)\n",
    "ax.axes.yaxis.set_tick_params(pad=0)\n",
    "m.drawcoastlines(color='0.1',  linewidth=0.2*linefont)\n",
    "m.drawmapboundary(color='0.1', linewidth=0.2*linefont)\n",
    "m.fillcontinents(color='0.9', lake_color='white')\n",
    "cbaxes1     = fig.add_axes([0.63, 0.675, 0.008, 0.185])\n",
    "cb1 = plt.colorbar(CB,orientation='vertical',cax = cbaxes1)\n",
    "cb1.set_ticks(tick_marks1)\n",
    "cb1.ax.tick_params(labelsize=labelfont)\n",
    "cb1.set_label(r'SST trend ($^\\circ$C per decade)', fontsize=labelfont,labelpad=0,family='sans-serif')\n",
    "fig.savefig(directory+'/Figures/Figure6_Schematic.png',dpi=300,bbox_inches = 'tight')"
   ]
  }
 ],
 "metadata": {
  "kernelspec": {
   "display_name": "Python 3 (ipykernel)",
   "language": "python",
   "name": "python3"
  },
  "language_info": {
   "codemirror_mode": {
    "name": "ipython",
    "version": 3
   },
   "file_extension": ".py",
   "mimetype": "text/x-python",
   "name": "python",
   "nbconvert_exporter": "python",
   "pygments_lexer": "ipython3",
   "version": "3.10.14"
  }
 },
 "nbformat": 4,
 "nbformat_minor": 4
}
